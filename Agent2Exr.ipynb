{
 "cells": [
  {
   "cell_type": "code",
   "execution_count": 5,
   "id": "62524c63",
   "metadata": {},
   "outputs": [],
   "source": [
    "from typing import Dict , TypedDict\n",
    "from langgraph.graph import StateGraph\n",
    "import math"
   ]
  },
  {
   "cell_type": "code",
   "execution_count": 4,
   "id": "3d0e3e2f",
   "metadata": {},
   "outputs": [],
   "source": [
    "class AgentState(TypedDict):\n",
    "    values:list[int]\n",
    "    name:str\n",
    "    operation:str\n",
    "    res:str\n",
    "\n"
   ]
  },
  {
   "cell_type": "code",
   "execution_count": 6,
   "id": "fc254563",
   "metadata": {},
   "outputs": [],
   "source": [
    "\n",
    "def process_values(state: AgentState) -> AgentState:\n",
    "    operation = state.get(\"operation\", \"+\") \n",
    "    if operation == \"+\":\n",
    "        state[\"res\"] = f\"Hi there {state['name']}! Your sum = {sum(state['values'])}\"\n",
    "    else:\n",
    "        state[\"res\"] = f\"Hi there {state['name']}! Your product = {math.prod(state['values'])}\"\n",
    "\n",
    "    return state\n"
   ]
  },
  {
   "cell_type": "code",
   "execution_count": 7,
   "id": "3bd8eb28",
   "metadata": {},
   "outputs": [],
   "source": [
    "graph = StateGraph(AgentState)\n",
    "\n",
    "graph.add_node(\"processor\",process_values)\n",
    "graph.set_entry_point(\"processor\")\n",
    "graph.set_finish_point(\"processor\")\n",
    "\n",
    "app=graph.compile()"
   ]
  },
  {
   "cell_type": "code",
   "execution_count": 8,
   "id": "5728cedd",
   "metadata": {},
   "outputs": [],
   "source": [
    "answers = app.invoke({\"values\": [3, 5, 67], \"name\": \"Candy\" , \"operation\":\"*\"})\n"
   ]
  },
  {
   "cell_type": "code",
   "execution_count": 9,
   "id": "c668a5cb",
   "metadata": {},
   "outputs": [
    {
     "name": "stdout",
     "output_type": "stream",
     "text": [
      "{'values': [3, 5, 67], 'name': 'Candy', 'operation': '*', 'res': 'Hi there Candy! Your product = 1005'}\n"
     ]
    }
   ],
   "source": [
    "print(answers)"
   ]
  }
 ],
 "metadata": {
  "kernelspec": {
   "display_name": ".venv",
   "language": "python",
   "name": "python3"
  },
  "language_info": {
   "codemirror_mode": {
    "name": "ipython",
    "version": 3
   },
   "file_extension": ".py",
   "mimetype": "text/x-python",
   "name": "python",
   "nbconvert_exporter": "python",
   "pygments_lexer": "ipython3",
   "version": "3.11.9"
  }
 },
 "nbformat": 4,
 "nbformat_minor": 5
}
