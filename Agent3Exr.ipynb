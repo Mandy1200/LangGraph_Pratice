{
 "cells": [
  {
   "cell_type": "code",
   "execution_count": 1,
   "id": "86ef8634",
   "metadata": {},
   "outputs": [],
   "source": [
    "from typing import Dict , TypedDict\n",
    "from langgraph.graph import StateGraph"
   ]
  },
  {
   "cell_type": "code",
   "execution_count": 33,
   "id": "499a5210",
   "metadata": {},
   "outputs": [],
   "source": [
    "class AgentState(TypedDict):\n",
    "    name:str\n",
    "    age:int\n",
    "    skills:list[str]\n",
    "    final:str"
   ]
  },
  {
   "cell_type": "code",
   "execution_count": 50,
   "id": "2efe63c8",
   "metadata": {},
   "outputs": [],
   "source": [
    "\n",
    "\n",
    "\n",
    "\n",
    "def one_node(state: AgentState) -> AgentState:\n",
    "    state['final'] = f\"Good Greetings, Beste {state['name']}! \"\n",
    "    return state\n",
    "\n",
    "def two_node(state: AgentState) -> AgentState:\n",
    "    state['final'] += f\"Your Age is {state['age']}. \"\n",
    "    return state\n",
    "\n",
    "def three_node(state: AgentState) -> AgentState:\n",
    "    state['final'] += f\"Your Skills are: {state['skills']}.\"\n",
    "    return state\n"
   ]
  },
  {
   "cell_type": "code",
   "execution_count": 51,
   "id": "3a2c4c5b",
   "metadata": {},
   "outputs": [],
   "source": [
    "graph = StateGraph(AgentState)\n",
    "\n",
    "graph.add_node(\"FirstNode\" , one_node)\n",
    "graph.add_node(\"SecondNode\" , two_node)\n",
    "graph.add_node(\"ThirdNode\" , three_node)\n",
    "\n",
    "\n",
    "graph.set_entry_point(\"FirstNode\")\n",
    "graph.add_edge(\"FirstNode\",\"SecondNode\")\n",
    "graph.add_edge(\"SecondNode\",\"ThirdNode\")\n",
    "\n",
    "graph.set_finish_point(\"ThirdNode\")\n",
    "\n",
    "app = graph.compile()\n"
   ]
  },
  {
   "cell_type": "code",
   "execution_count": 52,
   "id": "766b1b77",
   "metadata": {},
   "outputs": [
    {
     "name": "stdout",
     "output_type": "stream",
     "text": [
      "{'name': 'Mandy', 'age': 35, 'skills': ['Python', 'JavaScript', 'SQL'], 'final': \"Good Greetings, Beste Mandy! Your Age is 35. Your Skills are: ['Python', 'JavaScript', 'SQL'].\"}\n"
     ]
    }
   ],
   "source": [
    "res = app.invoke({\n",
    "    \"name\": \"Mandy\",\n",
    "    \"age\": 35,\n",
    "    \"skills\": [\"Python\", \"JavaScript\", \"SQL\"]\n",
    "})\n",
    "\n",
    "print(res)"
   ]
  },
  {
   "cell_type": "code",
   "execution_count": null,
   "id": "f5e490b0",
   "metadata": {},
   "outputs": [],
   "source": []
  }
 ],
 "metadata": {
  "kernelspec": {
   "display_name": ".venv",
   "language": "python",
   "name": "python3"
  },
  "language_info": {
   "codemirror_mode": {
    "name": "ipython",
    "version": 3
   },
   "file_extension": ".py",
   "mimetype": "text/x-python",
   "name": "python",
   "nbconvert_exporter": "python",
   "pygments_lexer": "ipython3",
   "version": "3.11.9"
  }
 },
 "nbformat": 4,
 "nbformat_minor": 5
}
