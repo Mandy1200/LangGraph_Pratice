{
 "cells": [
  {
   "cell_type": "code",
   "execution_count": 17,
   "id": "ba848d9f",
   "metadata": {},
   "outputs": [],
   "source": [
    "from langgraph.graph import StateGraph, END\n",
    "import random\n",
    "from typing import Dict, List, TypedDict"
   ]
  },
  {
   "cell_type": "code",
   "execution_count": 18,
   "id": "364d8af5",
   "metadata": {},
   "outputs": [],
   "source": [
    "class AgentState(TypedDict):\n",
    "    name: str\n",
    "    number: List[int]\n",
    "    counter: int"
   ]
  },
  {
   "cell_type": "code",
   "execution_count": 19,
   "id": "dd7fa477",
   "metadata": {},
   "outputs": [],
   "source": [
    "\n",
    "# Greet function\n",
    "def greet(state: AgentState) -> AgentState:\n",
    "    state['name'] = f\"hi there, {state['name']}\"\n",
    "    state['counter'] = 0\n",
    "    return state\n",
    "\n",
    "# Random number generator node function (renamed from 'random')\n",
    "def generate_random(state: AgentState) -> AgentState:\n",
    "    state['number'].append(random.randint(0, 10))\n",
    "    state['counter'] += 1\n",
    "    return state\n",
    "\n",
    "# Conditional edge logic\n",
    "def continueS(state: AgentState) -> str:\n",
    "    if state['counter'] < 5:\n",
    "        print(\"ENTERING LOOP\", state['counter'])\n",
    "        return \"loop\"\n",
    "    else:\n",
    "        return \"exit\""
   ]
  },
  {
   "cell_type": "code",
   "execution_count": 20,
   "id": "ec7fee28",
   "metadata": {},
   "outputs": [],
   "source": [
    "graph = StateGraph(AgentState)\n",
    "\n",
    "# Add nodes\n",
    "graph.add_node(\"greeting\", greet)\n",
    "graph.add_node(\"random\", generate_random)\n",
    "\n",
    "# Add edges\n",
    "graph.add_edge(\"greeting\", \"random\")\n",
    "\n",
    "# Add conditional edges\n",
    "graph.add_conditional_edges(\n",
    "    \"random\",\n",
    "    continueS,\n",
    "    {\n",
    "        \"loop\": \"random\",\n",
    "        \"exit\": END\n",
    "    }\n",
    ")\n",
    "\n",
    "# Set entry point\n",
    "graph.set_entry_point(\"greeting\")\n",
    "\n",
    "# Compile the graph into an executable app\n",
    "app = graph.compile()"
   ]
  },
  {
   "cell_type": "code",
   "execution_count": 21,
   "id": "a9c5b9ab",
   "metadata": {},
   "outputs": [
    {
     "name": "stdout",
     "output_type": "stream",
     "text": [
      "ENTERING LOOP 1\n",
      "ENTERING LOOP 2\n",
      "ENTERING LOOP 3\n",
      "ENTERING LOOP 4\n"
     ]
    },
    {
     "data": {
      "text/plain": [
       "{'name': 'hi there, Mandy', 'number': [7, 5, 1, 6, 10], 'counter': 5}"
      ]
     },
     "execution_count": 21,
     "metadata": {},
     "output_type": "execute_result"
    }
   ],
   "source": [
    "app.invoke({\"name\":\"Mandy\",\"number\":[],\"counter\":-1})"
   ]
  }
 ],
 "metadata": {
  "kernelspec": {
   "display_name": ".venv",
   "language": "python",
   "name": "python3"
  },
  "language_info": {
   "codemirror_mode": {
    "name": "ipython",
    "version": 3
   },
   "file_extension": ".py",
   "mimetype": "text/x-python",
   "name": "python",
   "nbconvert_exporter": "python",
   "pygments_lexer": "ipython3",
   "version": "3.11.9"
  }
 },
 "nbformat": 4,
 "nbformat_minor": 5
}
