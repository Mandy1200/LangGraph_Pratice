{
 "cells": [
  {
   "cell_type": "code",
   "execution_count": 1,
   "id": "6fb49295",
   "metadata": {},
   "outputs": [],
   "source": [
    "from typing import Dict , TypedDict\n",
    "from langgraph.graph import StateGraph"
   ]
  },
  {
   "cell_type": "code",
   "execution_count": 2,
   "id": "1d9249b8",
   "metadata": {},
   "outputs": [],
   "source": [
    "class AgentState(TypedDict):\n",
    "    message:str\n",
    "\n",
    "def greeting_node(state:AgentState)->AgentState:\n",
    "\n",
    "    state['message']= state[\"message\"] +\" \"+ \", you'r doing an amazing job by learning LangGraph! ❤️\"\n",
    "\n",
    "    return state"
   ]
  },
  {
   "cell_type": "code",
   "execution_count": 3,
   "id": "e9cb4702",
   "metadata": {},
   "outputs": [],
   "source": [
    "graph = StateGraph(AgentState)\n",
    "\n",
    "graph.add_node(\"greeter\",greeting_node)\n",
    "graph.set_entry_point(\"greeter\")\n",
    "graph.set_finish_point(\"greeter\")\n",
    "\n",
    "app=graph.compile()"
   ]
  },
  {
   "cell_type": "code",
   "execution_count": 4,
   "id": "5c465067",
   "metadata": {},
   "outputs": [],
   "source": [
    "res = app.invoke({\"message\":\"Mandy\"})"
   ]
  },
  {
   "cell_type": "code",
   "execution_count": 5,
   "id": "66037e84",
   "metadata": {},
   "outputs": [
    {
     "data": {
      "text/plain": [
       "\"Mandy , you'r doing an amazing job by learning LangGraph! ❤️\""
      ]
     },
     "execution_count": 5,
     "metadata": {},
     "output_type": "execute_result"
    }
   ],
   "source": [
    "res[\"message\"]"
   ]
  }
 ],
 "metadata": {
  "kernelspec": {
   "display_name": ".venv",
   "language": "python",
   "name": "python3"
  },
  "language_info": {
   "codemirror_mode": {
    "name": "ipython",
    "version": 3
   },
   "file_extension": ".py",
   "mimetype": "text/x-python",
   "name": "python",
   "nbconvert_exporter": "python",
   "pygments_lexer": "ipython3",
   "version": "3.11.9"
  }
 },
 "nbformat": 4,
 "nbformat_minor": 5
}
