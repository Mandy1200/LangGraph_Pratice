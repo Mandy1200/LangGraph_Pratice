{
 "cells": [
  {
   "cell_type": "code",
   "execution_count": 1,
   "id": "0fe3b42e",
   "metadata": {},
   "outputs": [],
   "source": [
    "from typing import TypedDict\n",
    "from langgraph.graph import StateGraph , START ,END"
   ]
  },
  {
   "cell_type": "code",
   "execution_count": 2,
   "id": "2bcee073",
   "metadata": {},
   "outputs": [],
   "source": [
    "class AgenState(TypedDict):\n",
    "    num1:int\n",
    "    num2:int\n",
    "    num3:int\n",
    "    num4:int\n",
    "    final1:str\n",
    "    final2:str\n",
    "    oper1:str\n",
    "    oper2:str"
   ]
  },
  {
   "cell_type": "code",
   "execution_count": 7,
   "id": "200c2743",
   "metadata": {},
   "outputs": [],
   "source": [
    "def adder1(state:AgenState)->AgenState:\n",
    "    state[\"final1\"]=state[\"num1\"]+state[\"num2\"]\n",
    "    return state\n",
    "\n",
    "def subt1(state:AgenState)->AgenState:\n",
    "    state[\"final1\"]=state[\"num1\"]-state[\"num2\"]\n",
    "    return state\n",
    "\n",
    "def decide_nextNode1(state:AgenState)->AgenState:\n",
    "\n",
    "    if state[\"oper1\"]==\"+\":\n",
    "        return \"add_opr1\"\n",
    "    elif state[\"oper1\"]==\"-\":\n",
    "        return \"sub_opr1\"\n",
    "    else:\n",
    "        return \"invalid_opr\"\n",
    "    \n",
    "\n",
    "def adder2(state:AgenState)->AgenState:\n",
    "    state[\"final2\"]=state[\"num3\"]+state[\"num4\"]\n",
    "    return state\n",
    "\n",
    "def subt2(state:AgenState)->AgenState:\n",
    "    state[\"final2\"]=state[\"num3\"]-state[\"num4\"]\n",
    "    return state\n",
    "\n",
    "def decide_nextNode2(state:AgenState)->AgenState:\n",
    "\n",
    "    if state[\"oper2\"]==\"+\":\n",
    "        return \"add_opr2\"\n",
    "    elif state[\"oper2\"]==\"-\":\n",
    "        return \"sub_opr2\"\n",
    "    else:\n",
    "        return \"invalid_opr\""
   ]
  },
  {
   "cell_type": "code",
   "execution_count": 10,
   "id": "0340d0c0",
   "metadata": {},
   "outputs": [],
   "source": [
    "graph = StateGraph(AgenState)\n",
    "\n",
    "#node first_s\n",
    "graph.add_node(\"add_node1\",adder1)\n",
    "graph.add_node(\"sub_node1\",subt1)\n",
    "graph.add_node(\"router1\",lambda state:state)\n",
    "\n",
    "#node second_s\n",
    "graph.add_node(\"add_node2\",adder2)\n",
    "graph.add_node(\"sub_node2\",subt2)\n",
    "graph.add_node(\"router2\",lambda state:state)\n",
    "\n",
    "graph.add_edge(START,\"router1\")\n",
    "\n",
    "# edges\n",
    "graph.add_edge(START, \"router1\")\n",
    "\n",
    "graph.add_conditional_edges(\n",
    "    \"router1\",\n",
    "    decide_nextNode1,\n",
    "    {\n",
    "        \"add_opr1\": \"add_node1\",\n",
    "        \"sub_opr1\": \"sub_node1\",\n",
    "    }\n",
    ")\n",
    "\n",
    "graph.add_edge(\"add_node1\", \"router2\")\n",
    "graph.add_edge(\"sub_node1\", \"router2\")\n",
    "\n",
    "graph.add_conditional_edges(\n",
    "    \"router2\",\n",
    "    decide_nextNode2,\n",
    "    {\n",
    "        \"add_opr2\": \"add_node2\",\n",
    "        \"sub_opr2\": \"sub_node2\",\n",
    "    }\n",
    ")\n",
    "\n",
    "graph.add_edge(\"add_node2\", END)\n",
    "graph.add_edge(\"sub_node2\", END)\n",
    "\n",
    "app=graph.compile()"
   ]
  },
  {
   "cell_type": "code",
   "execution_count": 12,
   "id": "2c24742e",
   "metadata": {},
   "outputs": [
    {
     "name": "stdout",
     "output_type": "stream",
     "text": [
      "{'num1': 10, 'num2': 10, 'num3': 100, 'num4': 100, 'final1': 20, 'final2': 200, 'oper1': '+', 'oper2': '+'}\n"
     ]
    }
   ],
   "source": [
    "res = AgenState(num1=10,num2=10,oper1=\"+\", num3=100,num4=100,oper2=\"+\")\n",
    "print(app.invoke(res))"
   ]
  }
 ],
 "metadata": {
  "kernelspec": {
   "display_name": ".venv",
   "language": "python",
   "name": "python3"
  },
  "language_info": {
   "codemirror_mode": {
    "name": "ipython",
    "version": 3
   },
   "file_extension": ".py",
   "mimetype": "text/x-python",
   "name": "python",
   "nbconvert_exporter": "python",
   "pygments_lexer": "ipython3",
   "version": "3.11.9"
  }
 },
 "nbformat": 4,
 "nbformat_minor": 5
}
