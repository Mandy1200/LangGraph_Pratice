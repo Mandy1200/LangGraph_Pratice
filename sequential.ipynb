{
 "cells": [
  {
   "cell_type": "code",
   "execution_count": 1,
   "id": "a0756687",
   "metadata": {},
   "outputs": [],
   "source": [
    "from typing import Dict , TypedDict\n",
    "from langgraph.graph import StateGraph"
   ]
  },
  {
   "cell_type": "code",
   "execution_count": 2,
   "id": "1883069c",
   "metadata": {},
   "outputs": [],
   "source": [
    "class AgentState(TypedDict):\n",
    "    name:str\n",
    "    age:str\n",
    "    final:str"
   ]
  },
  {
   "cell_type": "code",
   "execution_count": 3,
   "id": "f46e6941",
   "metadata": {},
   "outputs": [],
   "source": [
    "def one_node(state: AgentState)->AgentState:\n",
    "        state[\"final\"]=f\"Hi {state['name']}!\"\n",
    "        return state\n",
    "def two_node(state: AgentState)->AgentState:\n",
    "        state[\"final\"]=state[\"final\"]+f\"You are {state['age']} years old!\"\n",
    "        return state"
   ]
  },
  {
   "cell_type": "code",
   "execution_count": 4,
   "id": "4749ec20",
   "metadata": {},
   "outputs": [],
   "source": [
    "graph = StateGraph(AgentState)\n",
    "\n",
    "graph.add_node(\"FirstNode\" , one_node)\n",
    "graph.add_node(\"SecondNode\" , two_node)\n",
    "\n",
    "graph.set_entry_point(\"FirstNode\")\n",
    "graph.add_edge(\"FirstNode\",\"SecondNode\")\n",
    "graph.set_finish_point(\"SecondNode\")\n",
    "\n",
    "app = graph.compile()\n"
   ]
  },
  {
   "cell_type": "code",
   "execution_count": 5,
   "id": "4b6c7661",
   "metadata": {},
   "outputs": [
    {
     "name": "stdout",
     "output_type": "stream",
     "text": [
      "{'name': 'Mandy', 'age': 35, 'final': 'Hi Mandy!You are 35 years old!'}\n"
     ]
    }
   ],
   "source": [
    "res = app.invoke({\"name\":\"Mandy\",\"age\":35})\n",
    "print(res)"
   ]
  }
 ],
 "metadata": {
  "kernelspec": {
   "display_name": ".venv",
   "language": "python",
   "name": "python3"
  },
  "language_info": {
   "codemirror_mode": {
    "name": "ipython",
    "version": 3
   },
   "file_extension": ".py",
   "mimetype": "text/x-python",
   "name": "python",
   "nbconvert_exporter": "python",
   "pygments_lexer": "ipython3",
   "version": "3.11.9"
  }
 },
 "nbformat": 4,
 "nbformat_minor": 5
}
