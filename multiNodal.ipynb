{
 "cells": [
  {
   "cell_type": "code",
   "execution_count": null,
   "id": "3293175c",
   "metadata": {},
   "outputs": [],
   "source": [
    "from typing import TypedDict\n",
    "from langgraph.graph import StateGraph , START ,END"
   ]
  },
  {
   "cell_type": "code",
   "execution_count": 2,
   "id": "706847f5",
   "metadata": {},
   "outputs": [],
   "source": [
    "class AgenState(TypedDict):\n",
    "    num1:int\n",
    "    num2:int\n",
    "    final:str\n",
    "    operation:str"
   ]
  },
  {
   "cell_type": "code",
   "execution_count": null,
   "id": "fde2c158",
   "metadata": {},
   "outputs": [],
   "source": [
    "def adder(state:AgenState)->AgenState:\n",
    "    state[\"final\"]=state[\"num1\"]+state[\"num2\"]\n",
    "    return state\n",
    "\n",
    "def subt(state:AgenState)->AgenState:\n",
    "    state[\"final\"]=state[\"num1\"]-state[\"num2\"]\n",
    "    return state\n",
    "\n",
    "def decide_nextNode(state:AgenState)->AgenState:\n",
    "\n",
    "    if state[\"operation\"]==\"+\":\n",
    "        return \"add_opr\"\n",
    "    elif state[\"operation\"]==\"-\":\n",
    "        return \"sub_opr\"\n",
    "    else:\n",
    "        return \"invalid_opr\""
   ]
  },
  {
   "cell_type": "code",
   "execution_count": 4,
   "id": "088a8b45",
   "metadata": {},
   "outputs": [],
   "source": [
    "graph = StateGraph(AgenState)\n",
    "\n",
    "graph.add_node(\"add_node\",adder)\n",
    "graph.add_node(\"sub_node\",subt)\n",
    "graph.add_node(\"router\",lambda state:state)\n",
    "\n",
    "graph.add_edge(START,\"router\")\n",
    "\n",
    "graph.add_conditional_edges(\n",
    "    \"router\" ,\n",
    "    decide_nextNode ,\n",
    "    {\n",
    "        # Edge:Node\n",
    "        \"add_opr\":\"add_node\",\n",
    "        \"sub_opr\":\"sub_node\",\n",
    "\n",
    "    }\n",
    "\n",
    ")\n",
    "\n",
    "graph.add_edge(\"add_node\",END)\n",
    "graph.add_edge(\"sub_node\",END)\n",
    "\n",
    "app=graph.compile()"
   ]
  },
  {
   "cell_type": "code",
   "execution_count": 6,
   "id": "566791e1",
   "metadata": {},
   "outputs": [
    {
     "name": "stdout",
     "output_type": "stream",
     "text": [
      "{'num1': 10, 'num2': 10, 'final': 20, 'operation': '+'}\n"
     ]
    }
   ],
   "source": [
    "res = AgenState(num1=10,operation=\"+\",num2=10)\n",
    "print(app.invoke(res))"
   ]
  }
 ],
 "metadata": {
  "kernelspec": {
   "display_name": ".venv",
   "language": "python",
   "name": "python3"
  },
  "language_info": {
   "codemirror_mode": {
    "name": "ipython",
    "version": 3
   },
   "file_extension": ".py",
   "mimetype": "text/x-python",
   "name": "python",
   "nbconvert_exporter": "python",
   "pygments_lexer": "ipython3",
   "version": "3.11.9"
  }
 },
 "nbformat": 4,
 "nbformat_minor": 5
}
