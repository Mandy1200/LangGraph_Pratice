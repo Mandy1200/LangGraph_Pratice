{
 "cells": [
  {
   "cell_type": "code",
   "execution_count": 1,
   "id": "8a6fb80e",
   "metadata": {},
   "outputs": [],
   "source": [
    "from typing import Dict , TypedDict\n",
    "from langgraph.graph import StateGraph"
   ]
  },
  {
   "cell_type": "code",
   "execution_count": null,
   "id": "7907b506",
   "metadata": {},
   "outputs": [],
   "source": [
    "class AgentState(TypedDict):\n",
    "    values:list[int]\n",
    "    res:str\n",
    "    name:str\n",
    "\n"
   ]
  },
  {
   "cell_type": "code",
   "execution_count": 6,
   "id": "9433a65d",
   "metadata": {},
   "outputs": [],
   "source": [
    "def process_values(state:AgentState)-> AgentState:\n",
    "\n",
    "    state[\"res\"] = f\"Hi there {state['name']}! Your sum = {sum(state['values'])}\"\n",
    "\n",
    "    return state"
   ]
  },
  {
   "cell_type": "code",
   "execution_count": 7,
   "id": "5322994b",
   "metadata": {},
   "outputs": [],
   "source": [
    "graph = StateGraph(AgentState)\n",
    "\n",
    "graph.add_node(\"processor\",process_values)\n",
    "graph.set_entry_point(\"processor\")\n",
    "graph.set_finish_point(\"processor\")\n",
    "\n",
    "app=graph.compile()"
   ]
  },
  {
   "cell_type": "code",
   "execution_count": 10,
   "id": "70ffeecc",
   "metadata": {},
   "outputs": [],
   "source": [
    "answers = app.invoke({\"values\": [3, 5, 67], \"name\": \"Candy\"})\n"
   ]
  },
  {
   "cell_type": "code",
   "execution_count": 13,
   "id": "d4813bcc",
   "metadata": {},
   "outputs": [
    {
     "name": "stdout",
     "output_type": "stream",
     "text": [
      "Hi there Candy! Your sum = 75\n"
     ]
    }
   ],
   "source": [
    "print(answers[\"res\"])"
   ]
  }
 ],
 "metadata": {
  "kernelspec": {
   "display_name": ".venv",
   "language": "python",
   "name": "python3"
  },
  "language_info": {
   "codemirror_mode": {
    "name": "ipython",
    "version": 3
   },
   "file_extension": ".py",
   "mimetype": "text/x-python",
   "name": "python",
   "nbconvert_exporter": "python",
   "pygments_lexer": "ipython3",
   "version": "3.11.9"
  }
 },
 "nbformat": 4,
 "nbformat_minor": 5
}
